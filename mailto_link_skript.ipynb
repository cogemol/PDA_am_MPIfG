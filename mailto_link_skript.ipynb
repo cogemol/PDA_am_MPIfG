{
 "cells": [
  {
   "cell_type": "markdown",
   "source": [
    "# Anreicherung der Links mit Permalink\r\n",
    "\r\n",
    "*Die Titel in Aleph werden mit dem Service p_print_03 im Aleph-Sequential-Format unter Ausgabe des Feldes 655 herausgezogen, diese wird mit dem folgenden Skript um den Permalink Datensatz und zur besseren Sichtbarkeit Link-Text zu \"Send purpchase proposal to library\" geändert.   \r\n",
    "Im Link enthalten ist dann die Mailadresse, Subject und der Permalink zum entsprechenden Titelsatz.* \r\n",
    "\r\n",
    "*Die vom Skript erzeugte Datei \"urls_korr\" wird auf den Server geschoben und mittels p_manage_18 als Update der Daten eingespielt.*\r\n",
    "\r\n",
    "       Sollte der Nutzer sein Mailprogramm nicht so konfiguriert haben, dass er den Link direkt öffnen und versenden kann, \r\n",
    "       bleibt die Option, in der Vollanzeige des Titels über die Vufind-Funktion eine Email an die Bibliothek zu senden."
   ],
   "metadata": {}
  },
  {
   "cell_type": "code",
   "execution_count": 1,
   "source": [
    "t = \" 655   L $$zSend purchase proposal to library$$umailto:bib@mpifg.de?subject=Bestellwunsch&body=http://library.mpifg.de/Record/GES02000000000000\"\r\n",
    "with open('./input/urls', 'r') as f:    #Datei einlesen\r\n",
    "    with open('./output/urls_korr', 'w') as fn:    #Ausgabedatei definieren\r\n",
    "        data = f.readline(9)             #1.Zeile ID auslesen\r\n",
    "        fn.write(data +t+data+'\\n')       #1.Zeile neu schreiben\r\n",
    "        for line in f:                   #restliche Zeilen mit Schleife bearbeiten\r\n",
    "            data2 = f.read(9)            #ID auslesen\r\n",
    "            if data2:                     #nur wenn es ID gibt, Zeile neu schreiben, gab sonst eine Leere Zeile am Ende\r\n",
    "                fn.write(data2 +t+data2+'\\n') "
   ],
   "outputs": [],
   "metadata": {}
  }
 ],
 "metadata": {
  "orig_nbformat": 4,
  "language_info": {
   "name": "python",
   "version": "3.8.10",
   "mimetype": "text/x-python",
   "codemirror_mode": {
    "name": "ipython",
    "version": 3
   },
   "pygments_lexer": "ipython3",
   "nbconvert_exporter": "python",
   "file_extension": ".py"
  },
  "kernelspec": {
   "name": "python3",
   "display_name": "Python 3.8.10 64-bit"
  },
  "interpreter": {
   "hash": "4fac973d8b48a5fcf37e7d133428a31fb47ebbd054f5d1feed8c0da486f2af46"
  }
 },
 "nbformat": 4,
 "nbformat_minor": 2
}